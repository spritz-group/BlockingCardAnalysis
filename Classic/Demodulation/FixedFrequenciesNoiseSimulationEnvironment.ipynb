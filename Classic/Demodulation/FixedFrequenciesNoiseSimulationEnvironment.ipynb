{
 "cells": [
  {
   "cell_type": "markdown",
   "metadata": {},
   "source": [
    "# Noise at Fixed Frequencies Simulation Environment\n",
    "\n",
    "1. Load a clean signal acquired using GNURadio.\n",
    "1. Add Noise at Fixed Frequencies to the ideal signal to simulate the behaviour of a blocking card.\n",
    "1. Analyze the performance of the demodulator."
   ]
  },
  {
   "cell_type": "code",
   "execution_count": null,
   "metadata": {},
   "outputs": [],
   "source": [
    "from common_imports import *\n",
    "\n",
    "# Useful in Windwos OS\n",
    "import warnings\n",
    "warnings.filterwarnings('ignore')"
   ]
  },
  {
   "cell_type": "code",
   "execution_count": null,
   "metadata": {},
   "outputs": [],
   "source": [
    "# PATHS\n",
    "DATA_PATH     = r'../data/classic/'\n",
    "RESULTS_PATH  = r'../data/results/'\n",
    "\n",
    "# TO SHOW PLOTS\n",
    "SHOW_PLOTS = True"
   ]
  },
  {
   "cell_type": "markdown",
   "metadata": {},
   "source": [
    "### **1.** Load the signal of a clean communication"
   ]
  },
  {
   "cell_type": "code",
   "execution_count": null,
   "metadata": {},
   "outputs": [],
   "source": [
    "# Paths\n",
    "dataPath = DATA_PATH + 'classic_clean.raw'\n",
    "expected_file = libnfc_file = DATA_PATH + 'expectedTxt/classic_clean.txt'\n",
    "\n",
    "# Load data\n",
    "data = load_mag(dataPath)\n",
    "\n",
    "# Print the signal\n",
    "plt.figure(figsize=(30, 4), color=\"#47B5FF\"\n",
    "plt.plot(data)\n",
    "plt.show()"
   ]
  },
  {
   "cell_type": "code",
   "execution_count": null,
   "metadata": {},
   "outputs": [],
   "source": [
    "# Load everything into a NfcSignal class\n",
    "start = time()\n",
    "s = NfcSignal(data, \n",
    "      expected_file = expected_file, \n",
    "      libnfc_file = libnfc_file,\n",
    "      attack_mode = 0, \n",
    "      mean_samples = 0, \n",
    "      message_batch_size = 8)\n",
    "end = time()\n",
    "print(f\"init duration {end-start}\")\n",
    "\n",
    "# Start Demodulation\n",
    "s.start_demodulation()"
   ]
  },
  {
   "cell_type": "markdown",
   "metadata": {},
   "source": [
    "Check demodulation stats on a clean signal"
   ]
  },
  {
   "cell_type": "code",
   "execution_count": null,
   "metadata": {},
   "outputs": [],
   "source": [
    "s.demodulation_stats()"
   ]
  },
  {
   "cell_type": "markdown",
   "metadata": {},
   "source": [
    "### **2.** Add noise at different fixed frequencies"
   ]
  },
  {
   "cell_type": "code",
   "execution_count": null,
   "metadata": {},
   "outputs": [],
   "source": [
    "NOISE_TYPE_LIST = []\n",
    "signals = []\n",
    "\n",
    "DELTA_FREQ_START = 0.05e6\n",
    "DELTA_FREQ_STOP  = 0.30e6\n",
    "DELTA_FREQ_STEP  = 0.05e6\n",
    "\n",
    "NFC_FREQ    = 13.56e6\n",
    "Fs          = NFC_FREQ * 100\n",
    "dt          = 1 / Fs\n",
    "t           = np.arange(0, 1e-3, dt)\n",
    "amp         = 0.0025\n",
    "\n",
    "for delta_freq in np.arange(0.05e6,0.3e6,0.05e6):\n",
    "    # Create base signal at 13.56MHz\n",
    "    noise = amp * np.sin(2 * np.pi * (NFC_FREQ) * t)\n",
    "\n",
    "    numIterations = int(((15e6 - 12e6)/delta_freq)/2.0)\n",
    "\n",
    "    # Add other frequnecies\n",
    "    for i in range(1,numIterations):\n",
    "        noise += amp * np.sin(2 * np.pi * (NFC_FREQ + delta_freq * i) * t)\n",
    "        noise += amp * np.sin(2 * np.pi * (NFC_FREQ + delta_freq * -1 *i) * t) \n",
    "\n",
    "    # Create the noisySignal\n",
    "    resizedNoise = np.resize(noise, len(data))\n",
    "    noisyData = resizedNoise + data\n",
    "\n",
    "    # Add noisySignal to the list\n",
    "    signals.append(noisyData)\n",
    "\n",
    "    # Add name of noise to list\n",
    "    NOISE_TYPE_LIST.append(\"delta_{}_kHz\".format(delta_freq/10e4))\n",
    "\n",
    "    print(\"\\n💻 [NOISE CREATING = {} ]\\n\".format((\"delta_noise_{}_kHz\".format(delta_freq/10e4))))\n",
    "\n",
    "    if(SHOW_PLOTS):\n",
    "                # Plot FFT\n",
    "        n = len(t)\n",
    "        fhat = np.fft.fft(noise, n)                \n",
    "        psd = fhat * np.conj(fhat) / n          \n",
    "        freq = (1 / (dt * n)) * np.arange(n)\n",
    "        idxs_half = np.arange(1, np.floor(n / 2), dtype=np.int32) \n",
    "\n",
    "        print(\"[📊 PLOT] : FFT\")\n",
    "        plt.figure(figsize=(4,4))\n",
    "        plt.xlim(12.4e6,14.4e6)\n",
    "        plt.xticks(ticks=np.arange(12.4e6,14.4e6,0.4e6), labels = ['{:,.2f}'.format(x) for x in np.arange(12.4,14.4,0.4)])\n",
    "        plt.xlabel(\"Frequency [MHz]\")\n",
    "        plt.ylabel(\"Voltage [V]\")\n",
    "        plt.plot(freq[idxs_half], psd[idxs_half], color='#47B5FF')\n",
    "        plt.tight_layout()\n",
    "        plt.savefig(RESULTS_PATH + \"plots/delta_noise_\"+ str(delta_freq/10e4) + \"_kHz.pdf\", bbox_inches = 'tight', pad_inches = 0)\n",
    "        plt.show()"
   ]
  },
  {
   "cell_type": "markdown",
   "metadata": {},
   "source": [
    "#####  Analyze the performance of different signals"
   ]
  },
  {
   "cell_type": "code",
   "execution_count": null,
   "metadata": {},
   "outputs": [],
   "source": [
    "resultsDF = pd.DataFrame(columns =  ['noise_type','reader_correct', 'reader_expected', 'tag_detected', 'tag_correct', 'tag_expected', 'total_correct', 'total_expected'])"
   ]
  },
  {
   "cell_type": "code",
   "execution_count": null,
   "metadata": {},
   "outputs": [],
   "source": [
    "for i in range(len(signals)):\n",
    "    print(\"\\n💻 [SIGNAL = {} ]\\n\".format(NOISE_TYPE_LIST[i]))\n",
    "\n",
    "    start = time()\n",
    "    s = NfcSignal(signals[i], \n",
    "        expected_file = expected_file, \n",
    "        libnfc_file = libnfc_file,\n",
    "        attack_mode = 0, \n",
    "        mean_samples = 0, \n",
    "        message_batch_size = 8)\n",
    "    end = time()\n",
    "    print(f\"init duration {end-start}\")\n",
    "\n",
    "    # Start Demodulation\n",
    "    s.start_demodulation()\n",
    "\n",
    "    # Get demodulation stats and add blockig card blockingCardName\n",
    "    print(\"📝 STATS: \")\n",
    "    tmpDF = s.demodulation_stats()\n",
    "    tmpDF['noise_type'] = NOISE_TYPE_LIST[i]\n",
    "\n",
    "    # Add demodulation stats to the results DF\n",
    "    resultsDF = pd.concat([resultsDF, tmpDF], ignore_index=True)"
   ]
  },
  {
   "cell_type": "code",
   "execution_count": null,
   "metadata": {},
   "outputs": [],
   "source": [
    "resultsDF"
   ]
  },
  {
   "cell_type": "markdown",
   "metadata": {},
   "source": [
    "##### Compute demodulation rates"
   ]
  },
  {
   "cell_type": "code",
   "execution_count": null,
   "metadata": {},
   "outputs": [],
   "source": [
    "# Lists to store rates\n",
    "readerDemodulationRateList = []\n",
    "tagDemodulationRateList = []\n",
    "tagDetectionRateList = []\n",
    "totalDemodulationRateList = []\n",
    "\n",
    "# Iterate through rows\n",
    "for index, row in resultsDF.iterrows():\n",
    "    readerDemodulationRateList.append(round(row['reader_correct']/row['reader_expected'],2))\n",
    "    tagDetectionRateList.append(round(row['tag_detected']/row['tag_expected'],2))\n",
    "    tagDemodulationRateList.append(round(row['tag_correct']/row['tag_expected'],2))\n",
    "    totalDemodulationRateList.append(round(row['total_correct']/row['total_expected'],2))\n",
    "\n",
    "# Add rates to resultsDF\n",
    "resultsDF['reader_demodulation_rate'] = readerDemodulationRateList\n",
    "resultsDF['tag_detection_rate'] = tagDetectionRateList\n",
    "resultsDF['tag_demodulation_rate'] = tagDemodulationRateList\n",
    "resultsDF['total_demodulation_rate'] = totalDemodulationRateList"
   ]
  },
  {
   "cell_type": "markdown",
   "metadata": {},
   "source": [
    "### **4.** Save stats into CSV File"
   ]
  },
  {
   "cell_type": "code",
   "execution_count": null,
   "metadata": {},
   "outputs": [],
   "source": [
    "# Save to CSV\n",
    "resultsDF.to_csv(RESULTS_PATH + \"delta_results.csv\")  "
   ]
  },
  {
   "cell_type": "code",
   "execution_count": null,
   "metadata": {},
   "outputs": [],
   "source": [
    "# Load from CSV\n",
    "resultsDF = pd.read_csv(RESULTS_PATH + \"delta_results.csv\", index_col = 0) \n",
    "print(resultsDF)"
   ]
  }
 ],
 "metadata": {
  "kernelspec": {
   "display_name": "Python 3.10.8 64-bit",
   "language": "python",
   "name": "python3"
  },
  "language_info": {
   "codemirror_mode": {
    "name": "ipython",
    "version": 3
   },
   "file_extension": ".py",
   "mimetype": "text/x-python",
   "name": "python",
   "nbconvert_exporter": "python",
   "pygments_lexer": "ipython3",
   "version": "3.10.8"
  },
  "vscode": {
   "interpreter": {
    "hash": "369f2c481f4da34e4445cda3fffd2e751bd1c4d706f27375911949ba6bb62e1c"
   }
  }
 },
 "nbformat": 4,
 "nbformat_minor": 2
}
