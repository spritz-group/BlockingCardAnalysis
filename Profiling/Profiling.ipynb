{
 "cells": [
  {
   "cell_type": "markdown",
   "id": "careful-application",
   "metadata": {},
   "source": [
    "#  Blocking Cards Profiling"
   ]
  },
  {
   "cell_type": "code",
   "execution_count": 1,
   "id": "e5450134",
   "metadata": {},
   "outputs": [
    {
     "name": "stderr",
     "output_type": "stream",
     "text": [
      "/home/luca/.local/lib/python3.10/site-packages/scipy/__init__.py:146: UserWarning: A NumPy version >=1.16.5 and <1.23.0 is required for this version of SciPy (detected version 1.23.4\n",
      "  warnings.warn(f\"A NumPy version >={np_minversion} and <{np_maxversion}\"\n"
     ]
    }
   ],
   "source": [
    "from common_imports import *\n",
    "from data_const import *"
   ]
  },
  {
   "cell_type": "markdown",
   "id": "805089eb",
   "metadata": {},
   "source": [
    "## Notes"
   ]
  },
  {
   "cell_type": "markdown",
   "id": "85723ec4",
   "metadata": {},
   "source": [
    "To understand how blocking cards work we have built a C program with libnfc that activates the rf field for a certain amount of seconds given as a parameter (default is 10s)."
   ]
  },
  {
   "cell_type": "code",
   "execution_count": 2,
   "id": "639e290a",
   "metadata": {},
   "outputs": [],
   "source": [
    "# !../apdu_smartcard_exchange_tester/magnetic_field_up # may need sudo"
   ]
  },
  {
   "cell_type": "markdown",
   "id": "ab6f1b1f",
   "metadata": {},
   "source": [
    "In this phase, data is recorded with GQRX. The waterfall plots are usefull to identify at what frquencies noise is generated. The data is presented in a real case scenario by moving the blocking card from far away, closer to the rtl-sdr whose antenna is above the reader. We can call this procedure 'blocking card' profiling."
   ]
  },
  {
   "cell_type": "markdown",
   "id": "63dccffd",
   "metadata": {},
   "source": [
    "In GQRX:\n",
    "- FFT size (NFFT) is the number of samples to display in the waterfall/psd\n",
    "- fps determins how quick the fft is shown\n",
    "- samp_rate*time=window_size, time=window_size/samp_rate"
   ]
  },
  {
   "cell_type": "markdown",
   "id": "5bb4dbbc",
   "metadata": {},
   "source": [
    "Plots:\n",
    "- Waterfall of a reader in presence of a blocking card (interstaff). \n",
    "- PSD. Note: The psd of thermal noise is constant in the frequency range of interest:\n",
    "\\begin{equation}\n",
    "S_{x}(f) = \\frac{N_{0}}{2}\n",
    "\\end{equation}\n",
    "- Average of power (useful to detect when blocking cards starts to act)\n",
    "- Max power: useful to detect at what frequency the blocking card oscillates (related to the distance from the reader)\n",
    "- Probability density function of the signal. \n",
    "- Note: the pdf of wgn is a normal distribution"
   ]
  },
  {
   "cell_type": "markdown",
   "id": "77d1d8cd-cd75-423c-a166-1c5344746e98",
   "metadata": {},
   "source": [
    "### Taking the magnitue of the signal"
   ]
  },
  {
   "cell_type": "markdown",
   "id": "ef1b6f39-b061-49a0-8364-9e426e3809f4",
   "metadata": {},
   "source": [
    "Produce the magnitude and store it (to view with urh) in case you have not recorded magintude with gnuradio"
   ]
  },
  {
   "cell_type": "code",
   "execution_count": 3,
   "id": "1b9a9b93-ac8b-4a6e-b88c-1de95141f8b5",
   "metadata": {},
   "outputs": [],
   "source": [
    "# for blck_name in blck_cards_list:\n",
    "#     # load gqrx signal\n",
    "#     data = load_gqrx(\"../data/gqrx_fixed/non-mag/%s.raw\" % blck_name)\n",
    "#     data = pd.DataFrame(data)\n",
    "#     data[\"mag\"] = np.sqrt(np.square(data[0]) + np.square(data[1]))\n",
    "#     np.array(data[\"mag\"]).tofile(\"../data/gqrx_fixed/mag/%s-mag.raw\" % blck_name)"
   ]
  },
  {
   "cell_type": "markdown",
   "id": "f0b3be5a-345a-4596-bc7d-00ef422462cb",
   "metadata": {},
   "source": [
    "## Produce PDFs of blocking cards"
   ]
  },
  {
   "cell_type": "code",
   "execution_count": 6,
   "id": "e706032c-efac-4546-b9a2-cdf50cadb1aa",
   "metadata": {},
   "outputs": [],
   "source": [
    "for blck_name in blck_cards_list:\n",
    "    # load gqrx signal\n",
    "    if (not Path(\"imgs/profiling/fixed-pdf/%s.pdf\" % blck_name).is_file()):\n",
    "        data = load_mag(\"../data/gqrx_fixed/mag-trim/%s-mag.raw\" % blck_name) + 0.3\n",
    "        print(blck_name)\n",
    "        plot_pdf(data, fig_name=\"fixed-pdf/%s.pdf\" % blck_name)"
   ]
  },
  {
   "cell_type": "markdown",
   "id": "93be3399-fa3b-45a6-86a8-170e9f41656b",
   "metadata": {},
   "source": [
    "## Produce Specgrams of blocking cards"
   ]
  },
  {
   "cell_type": "code",
   "execution_count": 7,
   "id": "32fa6f82-25ec-44f7-8534-950913a160da",
   "metadata": {},
   "outputs": [],
   "source": [
    "from pathlib import Path\n",
    "for blck_name in blck_cards_list:\n",
    "    if (not Path(\"imgs/profiling/fixed-psd/%s.pdf\" % blck_name).is_file()):\n",
    "        # load gqrx signal\n",
    "        data = load_mag(\"../data/gqrx_fixed/mag-trim/%s-mag.raw\" % blck_name) + 0.3\n",
    "        print(blck_name)\n",
    "        spectrum = specgram(data, Fs=Fs_gqrx, NFFT=NFFT, fig_name=\"fixed-psd/%s.pdf\" % blck_name)"
   ]
  }
 ],
 "metadata": {
  "kernelspec": {
   "display_name": "Python 3 (ipykernel)",
   "language": "python",
   "name": "python3"
  },
  "language_info": {
   "codemirror_mode": {
    "name": "ipython",
    "version": 3
   },
   "file_extension": ".py",
   "mimetype": "text/x-python",
   "name": "python",
   "nbconvert_exporter": "python",
   "pygments_lexer": "ipython3",
   "version": "3.10.8"
  }
 },
 "nbformat": 4,
 "nbformat_minor": 5
}
