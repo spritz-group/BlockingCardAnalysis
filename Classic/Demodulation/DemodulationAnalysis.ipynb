{
 "cells": [
  {
   "cell_type": "markdown",
   "id": "404b84e7",
   "metadata": {},
   "source": [
    "# 🔍 Demodulation Analysis\n",
    "\n",
    "####  For each blocking card:\n",
    "* Compute **Demodulation Stats**\n",
    "* Compute **ASR** (Attacck Success Rate)\n",
    "* Compute **Elapsed Time**"
   ]
  },
  {
   "cell_type": "code",
   "execution_count": null,
   "id": "628f46a3",
   "metadata": {},
   "outputs": [],
   "source": [
    "# Imports\n",
    "from common_imports import *\n",
    "\n",
    "# Useful in Windwos OS\n",
    "import warnings\n",
    "warnings.filterwarnings('ignore')"
   ]
  },
  {
   "cell_type": "code",
   "execution_count": null,
   "id": "9e2b1cc9",
   "metadata": {},
   "outputs": [],
   "source": [
    "# PATHS\n",
    "DATA_PATH                 = r'../data/classic/'\n",
    "RESULTS_PATH              = r'../data/results/'\n",
    "\n",
    "# ID of the attacked MIFARE Classic\n",
    "MIFARE_CLASSIC_ID   = \"7e a2 42 3d a3\"\n",
    "\n",
    "# Data previously written into MIFARE Classic\n",
    "MIFARE_CLASSIC_DATA = \"11 22 33 44 55 66 77 88 99 77 77 77 77 77 77 77\"\n",
    "\n",
    "# List of tested Blocking Cards\n",
    "BLOCKING_CARD_LIST = ['BC1','BC2','BC2','BC3','BC4','BC5','BC6','BC7','BC8','BC9','BC10','BC11','BC12','BC13','BC14']"
   ]
  },
  {
   "cell_type": "markdown",
   "id": "b29f2544",
   "metadata": {},
   "source": [
    "### **1.** Compute Demodulation Stats for each Blocking Card"
   ]
  },
  {
   "cell_type": "code",
   "execution_count": null,
   "id": "f9a3dc65",
   "metadata": {},
   "outputs": [],
   "source": [
    "resultsDF = pd.DataFrame(columns =  ['blocking_card_name','reader_correct', 'reader_expected', 'tag_detected', 'tag_correct', 'tag_expected', 'total_correct', 'total_expected'])"
   ]
  },
  {
   "cell_type": "code",
   "execution_count": null,
   "id": "7144946e",
   "metadata": {},
   "outputs": [],
   "source": [
    "for blockingCardName in BLOCKING_CARD_LIST:\n",
    "      print(\"⚙️ START      {}\".format(blockingCardName))\n",
    "\n",
    "      # Paths\n",
    "      dataPath = DATA_PATH + 'classic_{}.raw'.format(blockingCardName)\n",
    "      expected_file = libnfc_file = DATA_PATH + 'expectedTxt/classic_{}.txt'.format(blockingCardName)\n",
    "\n",
    "      # Load data\n",
    "      data = load_mag(dataPath)\n",
    "\n",
    "      # Load everything into a NfcSignal class\n",
    "      start = time()\n",
    "      s = NfcSignal(data, \n",
    "            expected_file = expected_file, \n",
    "            libnfc_file = libnfc_file,\n",
    "            attack_mode = 0, \n",
    "            mean_samples = 0, \n",
    "            message_batch_size = 8)\n",
    "      end = time()\n",
    "      print(\"⌛ INIT TIME  {:.2f}\".format(end-start))\n",
    "\n",
    "      # Perform Demodulation\n",
    "      s.start_demodulation()\n",
    "\n",
    "      # Get demodulation stats and add blockig card blockingCardName\n",
    "      print(\"📝 STATS: \")\n",
    "      tmpDF = s.demodulation_stats()\n",
    "      tmpDF['blocking_card_name'] = blockingCardName\n",
    "\n",
    "      # Add demodulation stats to the results DF\n",
    "      resultsDF = pd.concat([resultsDF, tmpDF], ignore_index=True)"
   ]
  },
  {
   "cell_type": "code",
   "execution_count": null,
   "id": "d1061c67",
   "metadata": {},
   "outputs": [],
   "source": [
    "print(resultsDF)"
   ]
  },
  {
   "cell_type": "markdown",
   "id": "3b126bbc",
   "metadata": {},
   "source": [
    "### **2.** Compute ASR for each Blocking Card"
   ]
  },
  {
   "cell_type": "code",
   "execution_count": null,
   "id": "1b873faa",
   "metadata": {},
   "outputs": [],
   "source": [
    "# List to store ASR from each blocking card\n",
    "asrList = []"
   ]
  },
  {
   "cell_type": "code",
   "execution_count": null,
   "id": "75564f98",
   "metadata": {},
   "outputs": [],
   "source": [
    "for blockingCardName in BLOCKING_CARD_LIST:\n",
    "      print(\"⚙️ START      {}\".format(blockingCardName))\n",
    "\n",
    "      # Paths\n",
    "      dataPath = DATA_PATH + 'classic_{}.raw'.format(blockingCardName)\n",
    "      expected_file = libnfc_file = DATA_PATH + 'expectedTxt/classic_{}.txt'.format(blockingCardName)\n",
    "\n",
    "      ##################### DEMODULATION ############################\n",
    "      # Load data\n",
    "      data = load_mag(dataPath)\n",
    "\n",
    "      # Load everything into a NfcSignal class\n",
    "      start = time()\n",
    "      s = NfcSignal(data, \n",
    "            expected_file = expected_file, \n",
    "            libnfc_file = libnfc_file,\n",
    "            attack_mode = 0, \n",
    "            mean_samples = 0, \n",
    "            message_batch_size = 8)\n",
    "      end = time()\n",
    "\n",
    "      # Perform Demodulation\n",
    "      s.start_demodulation()\n",
    "\n",
    "      ################## MSG DF CREATION #############################\n",
    "      # Empty list to create the DF\n",
    "      msgList = []\n",
    "\n",
    "      # Iterate through all the messages detected using NfcSignal class\n",
    "      for message_start, message_end in zip(s.message_start, s.message_end):\n",
    "            for m_s, m_e, m_d, m_t in zip(message_start, message_end, s.message_detected, s.message_type):\n",
    "                  if m_d:\n",
    "                        # Retrieve the msg\n",
    "                        message = s.signal_normalized[m_s:m_e]\n",
    "                        \n",
    "                        # Perform Demodulation\n",
    "                        hex_message = NfcSignal.perform_demodulation(\n",
    "                        message, \n",
    "                        device_flag = m_t, \n",
    "                        show_plots = False,\n",
    "                        hide_demodulated_data = True)\n",
    "                        hex_message = hex_message.rstrip()\n",
    "\n",
    "                        # Compute the number of bytes of each msg\n",
    "                        hex_message_num_bytes = int(len(hex_message.replace(\" \", \"\"))/2)\n",
    "\n",
    "                        # Save results of demodulation\n",
    "                        msgList.append([str(m_t),hex_message,hex_message_num_bytes])\n",
    "\n",
    "      # Create the DF from the list\n",
    "      msgDf = pd.DataFrame(msgList,columns=['msgType','msgHex','numBytes'])\n",
    "      #####################################################################\n",
    "\n",
    "      ################### DECRYPTION #######################################\n",
    "      # Get possible Card Data Messages (the one composed by 18 bytes)\n",
    "      encryptedCardDataList = msgDf.loc[msgDf['numBytes'] == 18]['msgHex'].tolist()\n",
    "\n",
    "      # Get the decryption keys\n",
    "      decryptionKeysFilePath = DATA_PATH + 'decryptionKeys/classic_{}_decryption_keys.txt'.format(blockingCardName)\n",
    "      decryptionKeysList = open(decryptionKeysFilePath, \"r\").read().split(\"\\n\")[:-1]\n",
    "\n",
    "      # Decrypted Card Data\n",
    "      decryptedCardData = []\n",
    "\n",
    "      # To count successfull decryption\n",
    "      decrtyptedCount = 0\n",
    "\n",
    "      # Try to decrypt\n",
    "      for m in encryptedCardDataList:\n",
    "            # Try to use all keys\n",
    "            for k in decryptionKeysList:  \n",
    "                  key_bytes = [int(val, 16) for val in k.split()]\n",
    "                  encrypted_bytes = [int(val, 16) for val in m[:-2].split()]\n",
    "                  decrypted = []\n",
    "\n",
    "                  # XORing\n",
    "                  for i in range(len(key_bytes)):\n",
    "                        decrypted.append(\"{:02x}\".format(key_bytes[i] ^ encrypted_bytes[i]))\n",
    "                  decrypted = \" \".join(decrypted)\n",
    "\n",
    "                  # If MATCH with content of the card\n",
    "                  if(decrypted == MIFARE_CLASSIC_DATA):\n",
    "                        decrtyptedCount += 1\n",
    "                        print(\"✅ [Attack Successfull]: {}\".format(decrtyptedCount))\n",
    "\n",
    "      # Computer ASR\n",
    "      asr = float(decrtyptedCount / resultsDF.loc[resultsDF['blocking_card_name'] == blockingCardName]['total_iterations'])\n",
    "\n",
    "      # Store ASR\n",
    "      asrList.append(asr)\n"
   ]
  },
  {
   "cell_type": "code",
   "execution_count": null,
   "id": "08390aa8",
   "metadata": {},
   "outputs": [],
   "source": [
    "# Add all attacck success rates to resultsDF\n",
    "resultsDF['asr'] = asrList\n",
    "print(resultsDF)"
   ]
  },
  {
   "cell_type": "markdown",
   "id": "c130cd67",
   "metadata": {},
   "source": [
    "### **3.** Computer Rates for each blocking card"
   ]
  },
  {
   "cell_type": "code",
   "execution_count": null,
   "id": "ff480220",
   "metadata": {},
   "outputs": [],
   "source": [
    "# Lists to store rates\n",
    "readerDemodulationRateList = []\n",
    "tagDemodulationRateList = []\n",
    "tagDetectionRateList = []\n",
    "totalDemodulationRateList = []\n",
    "\n",
    "# Iterate through rows\n",
    "for index, row in resultsDF.iterrows():\n",
    "    readerDemodulationRateList.append(round(row['reader_correct']/row['reader_expected'],2))\n",
    "    tagDetectionRateList.append(round(row['tag_detected']/row['tag_expected'],2))\n",
    "    tagDemodulationRateList.append(round(row['tag_correct']/row['tag_expected'],2))\n",
    "    totalDemodulationRateList.append(round(row['total_correct']/row['total_expected'],2))\n",
    "\n",
    "# Add rates to resultsDF\n",
    "resultsDF['reader_demodulation_rate'] = readerDemodulationRateList\n",
    "resultsDF['tag_detection_rate'] = tagDetectionRateList\n",
    "resultsDF['tag_demodulation_rate'] = tagDemodulationRateList\n",
    "resultsDF['total_demodulation_rate'] = totalDemodulationRateList"
   ]
  },
  {
   "cell_type": "code",
   "execution_count": null,
   "id": "b2320b74",
   "metadata": {},
   "outputs": [],
   "source": [
    "print(resultsDF)"
   ]
  },
  {
   "cell_type": "markdown",
   "id": "af0ad158",
   "metadata": {},
   "source": [
    "### **4.** Save everything into CSV"
   ]
  },
  {
   "cell_type": "code",
   "execution_count": null,
   "id": "862fb8af",
   "metadata": {},
   "outputs": [],
   "source": [
    "# Save to CSV\n",
    "resultsDF.to_csv(RESULTS_PATH + \"results.csv\")  "
   ]
  },
  {
   "cell_type": "markdown",
   "id": "97a3d45d",
   "metadata": {},
   "source": [
    "### **5.** Read files contaning elapsed time of each communication"
   ]
  },
  {
   "cell_type": "code",
   "execution_count": null,
   "id": "02d14be8",
   "metadata": {},
   "outputs": [],
   "source": [
    "timeDF = pd.DataFrame(columns =  ['blocking_card_name','time'])"
   ]
  },
  {
   "cell_type": "code",
   "execution_count": null,
   "id": "8d56aad8",
   "metadata": {},
   "outputs": [],
   "source": [
    "for blockingCardName in BLOCKING_CARD_LIST:\n",
    "\n",
    "      # Paths\n",
    "      dataPath = DATA_PATH + 'elapsedTime/' + 'classic_time_{}.txt'.format(blockingCardName)\n",
    "    \n",
    "      f = open(dataPath, \"r\")\n",
    "\n",
    "      time = float(f.read())\n",
    "\n",
    "      tmpDF = {'blocking_card_name': blockingCardName, 'time': time}\n",
    "\n",
    "      timeDF = timeDF.append(tmpDF, ignore_index = True)"
   ]
  },
  {
   "cell_type": "code",
   "execution_count": null,
   "id": "fd2fe856",
   "metadata": {},
   "outputs": [],
   "source": [
    "timeDF"
   ]
  },
  {
   "cell_type": "markdown",
   "id": "9049ce34",
   "metadata": {},
   "source": [
    "### **6.** Save elapsed time into CSV"
   ]
  },
  {
   "cell_type": "code",
   "execution_count": null,
   "id": "5f45b226",
   "metadata": {},
   "outputs": [],
   "source": [
    "# Save to CSV\n",
    "timeDF.to_csv(RESULTS_PATH + \"time_elapsed.csv\")  "
   ]
  }
 ],
 "metadata": {
  "kernelspec": {
   "display_name": "Python 3.10.8 64-bit",
   "language": "python",
   "name": "python3"
  },
  "language_info": {
   "codemirror_mode": {
    "name": "ipython",
    "version": 3
   },
   "file_extension": ".py",
   "mimetype": "text/x-python",
   "name": "python",
   "nbconvert_exporter": "python",
   "pygments_lexer": "ipython3",
   "version": "3.10.8"
  },
  "vscode": {
   "interpreter": {
    "hash": "369f2c481f4da34e4445cda3fffd2e751bd1c4d706f27375911949ba6bb62e1c"
   }
  }
 },
 "nbformat": 4,
 "nbformat_minor": 5
}
