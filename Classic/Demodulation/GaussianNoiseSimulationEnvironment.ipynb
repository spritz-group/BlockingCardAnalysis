{
 "cells": [
  {
   "cell_type": "markdown",
   "metadata": {},
   "source": [
    "# Gaussian Noise Simulation Environment\n",
    "\n",
    "1. Load a clean signal acquired using GNURadio.\n",
    "1. Add different percentage of Gaussian Noise to the ideal signal to simulate the behaviour of a blocking card.\n",
    "1. Analyze the performance of the demodulator."
   ]
  },
  {
   "cell_type": "code",
   "execution_count": null,
   "metadata": {},
   "outputs": [],
   "source": [
    "from common_imports import *\n",
    "\n",
    "\n",
    "# Useful in Windwos OS\n",
    "import warnings\n",
    "warnings.filterwarnings('ignore')"
   ]
  },
  {
   "cell_type": "code",
   "execution_count": null,
   "metadata": {},
   "outputs": [],
   "source": [
    "# PATHS\n",
    "DATA_PATH     = r'../data/classic/'\n",
    "RESULTS_PATH  = r'../data/results/'\n",
    "\n",
    "# TO SHOW PLOTS\n",
    "SHOW_PLOTS = True"
   ]
  },
  {
   "cell_type": "markdown",
   "metadata": {},
   "source": [
    "### **1.** Load the signal of a clean communication"
   ]
  },
  {
   "cell_type": "code",
   "execution_count": null,
   "metadata": {},
   "outputs": [],
   "source": [
    "# Paths\n",
    "dataPath = DATA_PATH + 'classic_clean.raw'\n",
    "expected_file = libnfc_file = DATA_PATH + 'expectedTxt/classic_clean.txt'\n",
    "\n",
    "# Load data\n",
    "data = load_mag(dataPath)\n",
    "\n",
    "# Print the signal\n",
    "plt.figure(figsize=(30, 4), color=\"#47B5FF\"\n",
    "plt.plot(data)\n",
    "plt.show()"
   ]
  },
  {
   "cell_type": "code",
   "execution_count": null,
   "metadata": {},
   "outputs": [],
   "source": [
    "# Load everything into a NfcSignal class\n",
    "start = time()\n",
    "s = NfcSignal(data, \n",
    "      expected_file = expected_file, \n",
    "      libnfc_file = libnfc_file,\n",
    "      attack_mode = 0, \n",
    "      mean_samples = 0, \n",
    "      message_batch_size = 8)\n",
    "end = time()\n",
    "print(f\"init duration {end-start}\")\n",
    "\n",
    "# Start Demodulation\n",
    "s.start_demodulation()"
   ]
  },
  {
   "cell_type": "markdown",
   "metadata": {},
   "source": [
    "Check demodulation stats on a clean signal"
   ]
  },
  {
   "cell_type": "code",
   "execution_count": null,
   "metadata": {},
   "outputs": [],
   "source": [
    "s.demodulation_stats()"
   ]
  },
  {
   "cell_type": "markdown",
   "metadata": {},
   "source": [
    "### **2.** Add noise to the clean signal"
   ]
  },
  {
   "cell_type": "markdown",
   "metadata": {},
   "source": [
    "#### Add gaussian noise at different percentage: 5%, 10%, 15%, 20%, 25%, 30%"
   ]
  },
  {
   "cell_type": "code",
   "execution_count": null,
   "metadata": {},
   "outputs": [],
   "source": [
    "# Function to generate Gaussian Noise\n",
    "def gaussian_noise(x,mu,std):\n",
    "    noise = np.random.normal(mu, std, size = x.shape)\n",
    "    return noise"
   ]
  },
  {
   "cell_type": "code",
   "execution_count": null,
   "metadata": {},
   "outputs": [],
   "source": [
    "import matplotlib \n",
    "matplotlib.rcParams.update({'font.size': 16})\n",
    "\n",
    "signals = []\n",
    "mu = 0.0\n",
    "percentageSTD = [0.05, 0.1, 0.15, 0.2, 0.25, 0.3]\n",
    "\n",
    "for p in percentageSTD:\n",
    "    print(\"\\n💻 [CREATE SIGNAL WITH {}% OF GAUSSIAN NOISE]\\n\".format(p*100))\n",
    "    if p != 0.2:\n",
    "        continue\n",
    "    noise = gaussian_noise(data, mu, p * np.std(data))\n",
    "    noisyData = data + noise\n",
    "    \n",
    "    if(SHOW_PLOTS):\n",
    "        # Print the signal\n",
    "        print(\"📡 [SIGNAL]:\")\n",
    "        plt.figure(figsize = (12.5, 4))\n",
    "        plt.plot(noisyData, label =\"Noisy signal\", color=\"\")\n",
    "        plt.plot(data, color = \"orange\", label =\"Original signal\")\n",
    "        plt.legend(fontsize=16)\n",
    "        plt.xlabel('Time [s]')\n",
    "        plt.ylabel('Voltage [V]')\n",
    "        plt.tight_layout()\n",
    "        plt.savefig(\"gaussian_noise_\"+ str(p*100) +\".pdf\", bbox_inches = 'tight', pad_inches = 0)\n",
    "        plt.show()\n",
    "\n",
    "    signals.append(noisyData)"
   ]
  },
  {
   "cell_type": "markdown",
   "metadata": {},
   "source": [
    "### **3.** Analyze the performance of the demodulator on noisy signals"
   ]
  },
  {
   "cell_type": "code",
   "execution_count": null,
   "metadata": {},
   "outputs": [],
   "source": [
    "NOISE_TYPE_LIST = []\n",
    "resultsDF = pd.DataFrame(columns =  ['noise_type','reader_correct', 'reader_expected', 'tag_detected', 'tag_correct', 'tag_expected', 'total_correct', 'total_expected'])"
   ]
  },
  {
   "cell_type": "code",
   "execution_count": null,
   "metadata": {},
   "outputs": [],
   "source": [
    "for i in range(len(signals)):\n",
    "    print(\"\\n💻 [SIGNAL WITH {}% OF GAUSSIAN NOISE ]\\n\".format(percentageSTD[i]*100))\n",
    "\n",
    "    start = time()\n",
    "    s = NfcSignal(signals[i], \n",
    "        expected_file = expected_file, \n",
    "        libnfc_file = libnfc_file,\n",
    "        attack_mode = 0, \n",
    "        mean_samples = 0, \n",
    "        message_batch_size = 8)\n",
    "    end = time()\n",
    "    print(f\"init duration {end-start}\")\n",
    "\n",
    "    # Start Demodulation\n",
    "    s.start_demodulation()\n",
    "\n",
    "    # Get demodulation stats and add blockig card blockingCardName\n",
    "    print(\"📝 STATS: \")\n",
    "    tmpDF = s.demodulation_stats()\n",
    "    tmpDF['noise_type'] = \"gaussian_noise_{}\".format(percentageSTD[i]*100)\n",
    "    NOISE_TYPE_LIST.append(\"gaussian_{}\".format(percentageSTD[i]*100))\n",
    "\n",
    "    # Add demodulation stats to the results DF\n",
    "    resultsDF = pd.concat([resultsDF, tmpDF], ignore_index=True)"
   ]
  },
  {
   "cell_type": "code",
   "execution_count": null,
   "metadata": {},
   "outputs": [],
   "source": [
    "resultsDF"
   ]
  },
  {
   "cell_type": "markdown",
   "metadata": {},
   "source": [
    "#### Compute Demodulation Rates"
   ]
  },
  {
   "cell_type": "code",
   "execution_count": null,
   "metadata": {},
   "outputs": [],
   "source": [
    "# Lists to store rates\n",
    "readerDemodulationRateList = []\n",
    "tagDemodulationRateList = []\n",
    "tagDetectionRateList = []\n",
    "totalDemodulationRateList = []\n",
    "\n",
    "# Iterate through rows\n",
    "for index, row in resultsDF.iterrows():\n",
    "    readerDemodulationRateList.append(round(row['reader_correct']/row['reader_expected'],2))\n",
    "    tagDetectionRateList.append(round(row['tag_detected']/row['tag_expected'],2))\n",
    "    tagDemodulationRateList.append(round(row['tag_correct']/row['tag_expected'],2))\n",
    "    totalDemodulationRateList.append(round(row['total_correct']/row['total_expected'],2))\n",
    "\n",
    "# Add rates to resultsDF\n",
    "resultsDF['reader_demodulation_rate'] = readerDemodulationRateList\n",
    "resultsDF['tag_detection_rate'] = tagDetectionRateList\n",
    "resultsDF['tag_demodulation_rate'] = tagDemodulationRateList\n",
    "resultsDF['total_demodulation_rate'] = totalDemodulationRateList"
   ]
  },
  {
   "cell_type": "code",
   "execution_count": null,
   "metadata": {},
   "outputs": [],
   "source": [
    "resultsDF"
   ]
  },
  {
   "cell_type": "markdown",
   "metadata": {},
   "source": [
    "### **4.** Save stats into CSV file"
   ]
  },
  {
   "cell_type": "code",
   "execution_count": null,
   "metadata": {},
   "outputs": [],
   "source": [
    "# Save to CSV\n",
    "resultsDF.to_csv(RESULTS_PATH + \"gaussian_results.csv\")  "
   ]
  },
  {
   "cell_type": "code",
   "execution_count": null,
   "metadata": {},
   "outputs": [],
   "source": [
    "# Load from CSV\n",
    "resultsDF = pd.read_csv(RESULTS_PATH + \"gaussian_results.csv\", index_col = 0) \n",
    "print(resultsDF)"
   ]
  }
 ],
 "metadata": {
  "kernelspec": {
   "display_name": "Python 3.10.8 64-bit",
   "language": "python",
   "name": "python3"
  },
  "language_info": {
   "codemirror_mode": {
    "name": "ipython",
    "version": 3
   },
   "file_extension": ".py",
   "mimetype": "text/x-python",
   "name": "python",
   "nbconvert_exporter": "python",
   "pygments_lexer": "ipython3",
   "version": "3.10.8"
  },
  "vscode": {
   "interpreter": {
    "hash": "369f2c481f4da34e4445cda3fffd2e751bd1c4d706f27375911949ba6bb62e1c"
   }
  }
 },
 "nbformat": 4,
 "nbformat_minor": 2
}
