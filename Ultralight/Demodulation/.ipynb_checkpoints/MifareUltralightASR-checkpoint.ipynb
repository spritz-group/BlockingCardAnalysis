{
 "cells": [
  {
   "cell_type": "markdown",
   "id": "404b84e7",
   "metadata": {},
   "source": [
    "# 🔍 MIFARE Ultralight ASR\n",
    "\n",
    "For each blocking card compute **ASR** (Attacck Success Rate)"
   ]
  },
  {
   "cell_type": "code",
   "execution_count": null,
   "id": "d62f1d87",
   "metadata": {},
   "outputs": [],
   "source": [
    "# Imports\n",
    "from common_imports import *\n",
    "\n",
    "# Useful in Windwos OS\n",
    "import warnings\n",
    "warnings.filterwarnings('ignore')"
   ]
  },
  {
   "cell_type": "code",
   "execution_count": null,
   "id": "9e2b1cc9",
   "metadata": {},
   "outputs": [],
   "source": [
    "# PATHS\n",
    "DATA_PATH                 = r'../data/classic/'\n",
    "RESULTS_PATH              = r'../data/results/'\n",
    "\n",
    "# Data previously written into MIFARE Ultralight\n",
    "MIFARE_ULTRA_DATA = \"04 03 2e a1 32 64 5b 81 8c 48 00 00 00 00 00 00\"\n",
    "\n",
    "# Length of data previously written into MIFARE Ultralight\n",
    "MIFARE_ULTRA_DATA_LENGTH = 18\n",
    "\n",
    "# List of tested Blocking Cards\n",
    "BLOCKING_CARD_LIST = ['BC1','BC2','BC2','BC3','BC4','BC5','BC6','BC7','BC8','BC9','BC10','BC11','BC12','BC13','BC14']"
   ]
  },
  {
   "cell_type": "markdown",
   "id": "b29f2544",
   "metadata": {},
   "source": [
    "### **1.** Compute ASR for each Blocking Card"
   ]
  },
  {
   "cell_type": "code",
   "execution_count": null,
   "id": "7144946e",
   "metadata": {},
   "outputs": [],
   "source": [
    "# Creating the results Dataframe\n",
    "resultsDF = pd.DataFrame({\"blocking_card_name\":BLOCKING_CARD_LIST, \"total_iterations\":80})\n",
    "\n",
    "# To store ASR from each blocking card\n",
    "asrList = []"
   ]
  },
  {
   "cell_type": "code",
   "execution_count": null,
   "id": "75564f98",
   "metadata": {},
   "outputs": [],
   "source": [
    "for blockingCardName in BLOCKING_CARD_LIST:\n",
    "      print(\"⚙️ START      {}\".format(blockingCardName))\n",
    "\n",
    "      # Paths\n",
    "      dataPath = DATA_PATH + 'ultra_{}.raw'.format(blockingCardName)\n",
    "      expected_file = libnfc_file = DATA_PATH + 'expectedTxt/ultra_{}.txt'.format(blockingCardName)\n",
    "\n",
    "      # Load data\n",
    "      data = load_mag(dataPath)\n",
    "\n",
    "      # Add magnitude if necessary\n",
    "      if blockingCardName in ['BC8','BC9','BC11']:\n",
    "            data = data + 0.3\n",
    "\n",
    "      # Load everything into a NfcSignal class\n",
    "      start = time()\n",
    "      s = NfcSignal(data, \n",
    "            expected_file = expected_file, \n",
    "            libnfc_file = libnfc_file,\n",
    "            attack_mode = 0, \n",
    "            mean_samples = 0, \n",
    "            message_batch_size = 8)\n",
    "      end = time()\n",
    "\n",
    "      # Perform Demodulation\n",
    "      s.start_demodulation()\n",
    "\n",
    "      ################## MSG DF CREATION #############################\n",
    "      # Empty list to create the DF\n",
    "      msgList = []\n",
    "\n",
    "      # Iterate through all the messages detected using NfcSignal class\n",
    "      for message_start, message_end in zip(s.message_start, s.message_end):\n",
    "            for m_s, m_e, m_d, m_t in zip(message_start, message_end, s.message_detected, s.message_type):\n",
    "                  if m_d:\n",
    "                        # Retrieve the msg\n",
    "                        message = s.signal_normalized[m_s:m_e]\n",
    "                        \n",
    "                        # Perform Demodulation\n",
    "                        hex_message = NfcSignal.perform_demodulation(\n",
    "                        message, \n",
    "                        device_flag = m_t, \n",
    "                        show_plots = False,\n",
    "                        hide_demodulated_data = True)\n",
    "                        hex_message = hex_message.rstrip()\n",
    "\n",
    "                        # Compute the number of bytes of each msg\n",
    "                        hex_message_num_bytes = int(len(hex_message.replace(\" \", \"\"))/2)\n",
    "\n",
    "                        # Save results of demodulation\n",
    "                        msgList.append([str(m_t),hex_message,hex_message_num_bytes])\n",
    "\n",
    "      # Create the DF from the list\n",
    "      msgDf = pd.DataFrame(msgList,columns=['msgType','msgHex','numBytes'])\n",
    "\n",
    "      # Get possible Card Data Messages (the one composed by 18 bytes)\n",
    "      cardDataList = msgDf.loc[msgDf['numBytes'] == MIFARE_ULTRA_DATA_LENGTH]['msgHex'].tolist()\n",
    "\n",
    "      ################## ASR #############################\n",
    "      # Compute ASR using the results of the demodulator\n",
    "      print(\"ASR\")\n",
    "      attackCount = 0\n",
    "      for m in cardDataList:\n",
    "            if(m[:-6] == MIFARE_ULTRA_DATA):\n",
    "                  attackCount += 1\n",
    "                  print(\"✅ [Attack Successfull +1]: {}\".format(attackCount))\n",
    "      asr = float(attackCount / resultsDF.loc[resultsDF['blocking_card_name'] == blockingCardName]['total_iterations'])\n",
    "      print(asr)\n",
    "\n",
    "      # Computer ASR using the results of libnfc\n",
    "      print(\"LIBNFC ASR\")\n",
    "      attackCount = 0\n",
    "      libnfcFile = open(libnfc_file, 'r')\n",
    "      for line in libnfcFile.readlines():\n",
    "            if(line[:-8] == MIFARE_ULTRA_DATA):\n",
    "                  attackCount += 1\n",
    "                  print(\"✅ [Attack Successfull +1]: {}\".format(attackCount))\n",
    "      libnfcAsr = float(attackCount / resultsDF.loc[resultsDF['blocking_card_name'] == blockingCardName]['total_iterations'])\n",
    "      print(libnfcAsr)\n",
    "\n",
    "      # Store the best ASR\n",
    "      if(asr>libnfcAsr):\n",
    "            asrList.append(asr)\n",
    "      else:\n",
    "            asrList.append(libnfcAsr)"
   ]
  },
  {
   "cell_type": "code",
   "execution_count": null,
   "id": "08390aa8",
   "metadata": {},
   "outputs": [],
   "source": [
    "# Store all the ASR values into the dataframe\n",
    "resultsDF['asr'] = asrList\n",
    "print(resultsDF)"
   ]
  },
  {
   "cell_type": "markdown",
   "id": "af0ad158",
   "metadata": {},
   "source": [
    "### **2.** Save everything into CSV"
   ]
  },
  {
   "cell_type": "code",
   "execution_count": null,
   "id": "862fb8af",
   "metadata": {},
   "outputs": [],
   "source": [
    "# Save to CSV\n",
    "resultsDF.to_csv(RESULTS_PATH + \"resultsULTRA.csv\")  "
   ]
  }
 ],
 "metadata": {
  "kernelspec": {
   "display_name": "Python 3 (ipykernel)",
   "language": "python",
   "name": "python3"
  },
  "language_info": {
   "codemirror_mode": {
    "name": "ipython",
    "version": 3
   },
   "file_extension": ".py",
   "mimetype": "text/x-python",
   "name": "python",
   "nbconvert_exporter": "python",
   "pygments_lexer": "ipython3",
   "version": "3.10.8"
  },
  "vscode": {
   "interpreter": {
    "hash": "369f2c481f4da34e4445cda3fffd2e751bd1c4d706f27375911949ba6bb62e1c"
   }
  }
 },
 "nbformat": 4,
 "nbformat_minor": 5
}
